{
 "cells": [
  {
   "cell_type": "markdown",
   "metadata": {},
   "source": [
    "# Support Vector Regression (SVR) Model for Deconvolution of Human Immune Cell Types\n",
    "### Non-Negative Least Square Problem\n",
    "\n",
    "\n",
    "$$ min_A(||AS-X||^2), s.t. \\bigg\\{ \\sum_{i=1}^{N} a_{ki}=1 , a_{ki}\\geq0, $$\n",
    "\n",
    "$$x_{ij}=\\sum_{i=1}^{N} a_{ki}s_{ij}$$\n",
    "\n",
    "\n",
    "x_ij: g ene expression level of gene j in a sample k \n",
    "\n",
    "a_ki: i cell type proportion for sample k \n",
    "\n",
    "s_ij: gene expression level of gene j in i cell type\n",
    " \n",
    " More generally, matrix form of the problem is:\n",
    "$$ X=AS$$\n",
    "X: mixture data \n",
    "\n",
    "A: proportion matrix ( desired matrix )\n",
    "\n",
    "S: signature matrix \n",
    "\n",
    "\n",
    "\n",
    "\n"
   ]
  },
  {
   "cell_type": "code",
   "execution_count": 2,
   "metadata": {},
   "outputs": [
    {
     "data": {
      "text/html": [
       "<div>\n",
       "<style scoped>\n",
       "    .dataframe tbody tr th:only-of-type {\n",
       "        vertical-align: middle;\n",
       "    }\n",
       "\n",
       "    .dataframe tbody tr th {\n",
       "        vertical-align: top;\n",
       "    }\n",
       "\n",
       "    .dataframe thead th {\n",
       "        text-align: right;\n",
       "    }\n",
       "</style>\n",
       "<table border=\"1\" class=\"dataframe\">\n",
       "  <thead>\n",
       "    <tr style=\"text-align: right;\">\n",
       "      <th></th>\n",
       "      <th>CD8</th>\n",
       "      <th>CD4</th>\n",
       "      <th>B_cell</th>\n",
       "      <th>NK</th>\n",
       "      <th>Neutrophils</th>\n",
       "      <th>monocyte</th>\n",
       "      <th>Fibroblast</th>\n",
       "      <th>Endothelial</th>\n",
       "    </tr>\n",
       "    <tr>\n",
       "      <th>gene</th>\n",
       "      <th></th>\n",
       "      <th></th>\n",
       "      <th></th>\n",
       "      <th></th>\n",
       "      <th></th>\n",
       "      <th></th>\n",
       "      <th></th>\n",
       "      <th></th>\n",
       "    </tr>\n",
       "  </thead>\n",
       "  <tbody>\n",
       "    <tr>\n",
       "      <th>ENSG00000000971</th>\n",
       "      <td>0.000000</td>\n",
       "      <td>0.000044</td>\n",
       "      <td>0.000000</td>\n",
       "      <td>0.000045</td>\n",
       "      <td>0.000003</td>\n",
       "      <td>0.000010</td>\n",
       "      <td>0.006356</td>\n",
       "      <td>0.009847</td>\n",
       "    </tr>\n",
       "    <tr>\n",
       "      <th>ENSG00000003436</th>\n",
       "      <td>0.000000</td>\n",
       "      <td>0.000000</td>\n",
       "      <td>0.000007</td>\n",
       "      <td>0.000200</td>\n",
       "      <td>0.000095</td>\n",
       "      <td>0.000022</td>\n",
       "      <td>0.003832</td>\n",
       "      <td>0.039887</td>\n",
       "    </tr>\n",
       "    <tr>\n",
       "      <th>ENSG00000008517</th>\n",
       "      <td>0.054930</td>\n",
       "      <td>0.023485</td>\n",
       "      <td>0.000031</td>\n",
       "      <td>0.018015</td>\n",
       "      <td>0.000198</td>\n",
       "      <td>0.000057</td>\n",
       "      <td>0.000097</td>\n",
       "      <td>0.014840</td>\n",
       "    </tr>\n",
       "    <tr>\n",
       "      <th>ENSG00000008988</th>\n",
       "      <td>0.009017</td>\n",
       "      <td>0.010958</td>\n",
       "      <td>0.166875</td>\n",
       "      <td>0.005670</td>\n",
       "      <td>0.000231</td>\n",
       "      <td>0.057349</td>\n",
       "      <td>0.018695</td>\n",
       "      <td>0.120254</td>\n",
       "    </tr>\n",
       "    <tr>\n",
       "      <th>ENSG00000009790</th>\n",
       "      <td>0.010526</td>\n",
       "      <td>0.003494</td>\n",
       "      <td>0.008991</td>\n",
       "      <td>0.021176</td>\n",
       "      <td>0.002923</td>\n",
       "      <td>0.006066</td>\n",
       "      <td>0.000027</td>\n",
       "      <td>0.000087</td>\n",
       "    </tr>\n",
       "  </tbody>\n",
       "</table>\n",
       "</div>"
      ],
      "text/plain": [
       "                      CD8       CD4    B_cell        NK  Neutrophils  \\\n",
       "gene                                                                   \n",
       "ENSG00000000971  0.000000  0.000044  0.000000  0.000045     0.000003   \n",
       "ENSG00000003436  0.000000  0.000000  0.000007  0.000200     0.000095   \n",
       "ENSG00000008517  0.054930  0.023485  0.000031  0.018015     0.000198   \n",
       "ENSG00000008988  0.009017  0.010958  0.166875  0.005670     0.000231   \n",
       "ENSG00000009790  0.010526  0.003494  0.008991  0.021176     0.002923   \n",
       "\n",
       "                 monocyte  Fibroblast  Endothelial  \n",
       "gene                                                \n",
       "ENSG00000000971  0.000010    0.006356     0.009847  \n",
       "ENSG00000003436  0.000022    0.003832     0.039887  \n",
       "ENSG00000008517  0.000057    0.000097     0.014840  \n",
       "ENSG00000008988  0.057349    0.018695     0.120254  \n",
       "ENSG00000009790  0.006066    0.000027     0.000087  "
      ]
     },
     "execution_count": 2,
     "metadata": {},
     "output_type": "execute_result"
    }
   ],
   "source": [
    "import numpy as np\n",
    "import pandas as pd\n",
    "from sklearn.svm import LinearSVR\n",
    "from sklearn.svm import NuSVR\n",
    "from sklearn.metrics import r2_score\n",
    "signature_coarse=pd.read_csv('signature_coarse.csv')\n",
    "signature_coarse=signature_coarse.set_index('gene')\n",
    "signature_coarse.head()"
   ]
  },
  {
   "cell_type": "code",
   "execution_count": 3,
   "metadata": {},
   "outputs": [
    {
     "data": {
      "text/plain": [
       "(355, 8)"
      ]
     },
     "execution_count": 3,
     "metadata": {},
     "output_type": "execute_result"
    }
   ],
   "source": [
    "signature_coarse.shape"
   ]
  },
  {
   "cell_type": "code",
   "execution_count": 4,
   "metadata": {},
   "outputs": [],
   "source": [
    "def Nu_SVR(mixture,signature):\n",
    "    \n",
    "   #function for having same genes for mixture and signature matrix'\n",
    "    gene_signature=signature.index.values  \n",
    "    gene_rna=mixture.index.values\n",
    "    genes=[genes for genes in gene_rna if genes not in gene_signature] \n",
    "    mixture=mixture.drop(index=genes)\n",
    "    \n",
    "    \n",
    "    gene_mixture=mixture.index.values \n",
    "    genes_for_signature=[genes for genes in gene_signature if genes not in gene_mixture]    \n",
    "    signature=signature.drop(index=genes_for_signature)\n",
    "    \n",
    "           \n",
    "    cell_type_data=pd.DataFrame(columns=signature.columns.values.tolist())\n",
    "    for column in mixture: \n",
    "        #support vector regression \n",
    "            regr_nusvr = NuSVR(kernel='linear',nu=1)\n",
    "            train_x=np.asanyarray(signature)\n",
    "            train_y=np.asanyarray(mixture[column])\n",
    "            model=regr_nusvr.fit (train_x, train_y)\n",
    "            result=model.coef_\n",
    "            #make the negative values zero, and normalized to sum up 1\n",
    "            result=np.where(result<0, 0, result) \n",
    "            normalizer = 1 /  np.sum(result)\n",
    "            estimated_cell_fraction= [x * normalizer for x in result]\n",
    "            cell_type=pd.DataFrame(estimated_cell_fraction,index=[column],columns=signature.columns.values.tolist())\n",
    "            cell_type_data=cell_type_data.append(cell_type)\n",
    "     \n",
    "    return cell_type_data"
   ]
  },
  {
   "cell_type": "code",
   "execution_count": 5,
   "metadata": {},
   "outputs": [],
   "source": [
    "def Linear_SVR(mixture,signature,cell_number):\n",
    "    'main function to find the proportion matrix'\n",
    "    \"Support Vector Regression \"\n",
    "    \n",
    "    cell_type_data=pd.DataFrame(columns=signature.columns.values.tolist())\n",
    "    for column in mixture: \n",
    "        #support vector regression \n",
    "            regr_svr = LinearSVR(fit_intercept=False,max_iter=2000)\n",
    "            train_x=np.asanyarray(signature)\n",
    "            train_y=np.asanyarray(mixture[column])\n",
    "            model=regr_svr.fit (train_x, train_y)\n",
    "            result=model.coef_\n",
    "            result=np.reshape(result,(1,cell_number))\n",
    "           \n",
    "            #make the negative values zero, and normalized to sum up 1\n",
    "            result=np.where(result<0, 0, result) \n",
    "            normalizer = 1 /  np.sum(result)\n",
    "            estimated_cell_fraction= [x * normalizer for x in result]\n",
    "            cell_type=pd.DataFrame(estimated_cell_fraction,index=[column],columns=signature.columns.values.tolist())\n",
    "            cell_type_data=cell_type_data.append(cell_type)\n",
    "    \n",
    "    return cell_type_data"
   ]
  },
  {
   "cell_type": "code",
   "execution_count": 6,
   "metadata": {},
   "outputs": [],
   "source": [
    "def generate_test_data_score_NUSVR(samples,cell_number,gene,signature_matrix):\n",
    "    '''\n",
    "    \n",
    "    This function gives the scores of randomly generated synthetic mixture data set for NU_SVR model\n",
    "       \n",
    "       sample:  number of samples for synthetic mixture data\n",
    "       cell_number: # number cell_types\n",
    "       gene: number of genes in the signature matrix\n",
    "     \n",
    "       signature data : given signature matrix'''\n",
    "    \n",
    "    #generating synthetic mixture data \n",
    "    test_data=np.empty(shape=[samples,cell_number])\n",
    "    test_mixture=np.empty(shape=[samples,gene])\n",
    "    test_mixture_df=pd.DataFrame(index= signature_matrix.index)\n",
    "\n",
    "    result_test=pd.DataFrame(index=range(samples),columns=signature_matrix.columns.values.tolist())\n",
    "    score_data=np.empty(shape=[samples,1])\n",
    "    for i in range(samples):\n",
    "        test_data[i]=np.array(np.random.random(cell_number))\n",
    "        test_data[i] /=np.sum(test_data[i])\n",
    "        test_mixture[i]=np.matmul(test_data[i],signature_matrix.T)\n",
    "        test_mixture_df[i]=pd.DataFrame(test_mixture[i],index= signature_matrix.index)\n",
    "\n",
    "        test_mixture_df=test_mixture_df.fillna(0)\n",
    "        #using synthetic mixture data in the model:\n",
    "        result_test=Nu_SVR(test_mixture_df, signature_matrix)\n",
    "        score_data[i]=r2_score(test_data[i],result_test.iloc[i])\n",
    "    return score_data\n"
   ]
  },
  {
   "cell_type": "code",
   "execution_count": 7,
   "metadata": {},
   "outputs": [],
   "source": [
    "def generate_test_data_score_LINEAR_SVR(samples,cell_number, gene,signature_matrix):\n",
    "    '''\n",
    "    This function gives the scores of randomly generated synthetic mixture data set for LINEAR_SVR model\n",
    "       \n",
    "       sample:  number of samples for synthetic mixture data\n",
    "       cell_number: # number cell_types\n",
    "       gene: number of genes in the signature matrix\n",
    "       signature data : given signature matrix'''\n",
    "    \n",
    "    #generating synthetic mixture data \n",
    "    test_data=np.empty(shape=[samples,cell_number])\n",
    "    test_mixture=np.empty(shape=[samples,gene])\n",
    "    test_mixture_df=pd.DataFrame(index= signature_matrix.index)\n",
    "    result_test=pd.DataFrame(index=range(samples),columns=signature_matrix.columns.values.tolist())\n",
    "    score_data=np.empty(shape=[samples,1])\n",
    "    for i in range(samples):\n",
    "        test_data[i]=np.array(np.random.random(cell_number))\n",
    "        test_data[i] /=np.sum(test_data[i])\n",
    "        test_mixture[i]=np.matmul(test_data[i],signature_matrix.T)\n",
    "        test_mixture_df[i]=pd.DataFrame(test_mixture[i],index= signature_matrix.index)\n",
    "        test_mixture_df=test_mixture_df.fillna(0)\n",
    "        #using synthetic mixture data in the model:\n",
    "        result_test=Linear_SVR(test_mixture_df, signature_matrix,cell_number)\n",
    "        \n",
    "        score_data[i]=r2_score(test_data[i],result_test.iloc[i])\n",
    "    return score_data\n"
   ]
  },
  {
   "cell_type": "code",
   "execution_count": 8,
   "metadata": {},
   "outputs": [
    {
     "data": {
      "text/plain": [
       "0.9999999999999956"
      ]
     },
     "execution_count": 8,
     "metadata": {},
     "output_type": "execute_result"
    }
   ],
   "source": [
    "b=generate_test_data_score_LINEAR_SVR(100,8,355,signature_coarse)\n",
    "average_score_l=np.mean(b)\n",
    "average_score_l"
   ]
  },
  {
   "cell_type": "code",
   "execution_count": 9,
   "metadata": {},
   "outputs": [
    {
     "data": {
      "text/plain": [
       "0.9998813439572684"
      ]
     },
     "execution_count": 9,
     "metadata": {},
     "output_type": "execute_result"
    }
   ],
   "source": [
    "a=generate_test_data_score_NUSVR(100,8,355,signature_coarse)\n",
    "average_score=np.mean(a)\n",
    "average_score"
   ]
  },
  {
   "cell_type": "code",
   "execution_count": null,
   "metadata": {},
   "outputs": [],
   "source": []
  }
 ],
 "metadata": {
  "kernelspec": {
   "display_name": "Python 3",
   "language": "python",
   "name": "python3"
  },
  "language_info": {
   "codemirror_mode": {
    "name": "ipython",
    "version": 3
   },
   "file_extension": ".py",
   "mimetype": "text/x-python",
   "name": "python",
   "nbconvert_exporter": "python",
   "pygments_lexer": "ipython3",
   "version": "3.7.1"
  }
 },
 "nbformat": 4,
 "nbformat_minor": 2
}
